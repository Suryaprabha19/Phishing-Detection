{
  "cells": [
    {
      "cell_type": "markdown",
      "metadata": {
        "id": "view-in-github",
        "colab_type": "text"
      },
      "source": [
        "<a href=\"https://colab.research.google.com/github/Suryaprabha19/Phishing-Detection/blob/main/Phishing.ipynb\" target=\"_parent\"><img src=\"https://colab.research.google.com/assets/colab-badge.svg\" alt=\"Open In Colab\"/></a>"
      ]
    },
    {
      "cell_type": "code",
      "execution_count": null,
      "metadata": {
        "id": "FRdjscNCjAA3"
      },
      "outputs": [],
      "source": [
        "!pip install catboost"
      ]
    },
    {
      "cell_type": "code",
      "execution_count": null,
      "metadata": {
        "colab": {
          "base_uri": "https://localhost:8080/"
        },
        "id": "8a7gy1_R-ngU",
        "outputId": "d11ba879-978a-4462-ea17-7ac93563fcdc"
      },
      "outputs": [
        {
          "name": "stdout",
          "output_type": "stream",
          "text": [
            "Collecting tld==0.13\n",
            "  Downloading tld-0.13-py2.py3-none-any.whl.metadata (9.4 kB)\n",
            "Downloading tld-0.13-py2.py3-none-any.whl (263 kB)\n",
            "\u001b[?25l   \u001b[90m━━━━━━━━━━━━━━━━━━━━━━━━━━━━━━━━━━━━━━━━\u001b[0m \u001b[32m0.0/263.8 kB\u001b[0m \u001b[31m?\u001b[0m eta \u001b[36m-:--:--\u001b[0m\r\u001b[2K   \u001b[91m━━━━━━━━━━\u001b[0m\u001b[91m╸\u001b[0m\u001b[90m━━━━━━━━━━━━━━━━━━━━━━━━━━━━━\u001b[0m \u001b[32m71.7/263.8 kB\u001b[0m \u001b[31m3.4 MB/s\u001b[0m eta \u001b[36m0:00:01\u001b[0m\r\u001b[2K   \u001b[90m━━━━━━━━━━━━━━━━━━━━━━━━━━━━━━━━━━━━━━━━\u001b[0m \u001b[32m263.8/263.8 kB\u001b[0m \u001b[31m4.2 MB/s\u001b[0m eta \u001b[36m0:00:00\u001b[0m\n",
            "\u001b[?25hInstalling collected packages: tld\n",
            "Successfully installed tld-0.13\n"
          ]
        }
      ],
      "source": [
        "!pip install tld==0.13"
      ]
    },
    {
      "cell_type": "code",
      "execution_count": null,
      "metadata": {
        "colab": {
          "base_uri": "https://localhost:8080/"
        },
        "id": "O-ZfVTBF-yIR",
        "outputId": "f00b7483-ae2d-497a-e7eb-17c7cc92eddc"
      },
      "outputs": [
        {
          "name": "stdout",
          "output_type": "stream",
          "text": [
            "Collecting googlesearch-python\n",
            "  Downloading googlesearch_python-1.3.0-py3-none-any.whl.metadata (3.4 kB)\n",
            "Requirement already satisfied: beautifulsoup4>=4.9 in /usr/local/lib/python3.11/dist-packages (from googlesearch-python) (4.12.3)\n",
            "Requirement already satisfied: requests>=2.20 in /usr/local/lib/python3.11/dist-packages (from googlesearch-python) (2.32.3)\n",
            "Requirement already satisfied: soupsieve>1.2 in /usr/local/lib/python3.11/dist-packages (from beautifulsoup4>=4.9->googlesearch-python) (2.6)\n",
            "Requirement already satisfied: charset-normalizer<4,>=2 in /usr/local/lib/python3.11/dist-packages (from requests>=2.20->googlesearch-python) (3.4.1)\n",
            "Requirement already satisfied: idna<4,>=2.5 in /usr/local/lib/python3.11/dist-packages (from requests>=2.20->googlesearch-python) (3.10)\n",
            "Requirement already satisfied: urllib3<3,>=1.21.1 in /usr/local/lib/python3.11/dist-packages (from requests>=2.20->googlesearch-python) (2.3.0)\n",
            "Requirement already satisfied: certifi>=2017.4.17 in /usr/local/lib/python3.11/dist-packages (from requests>=2.20->googlesearch-python) (2024.12.14)\n",
            "Downloading googlesearch_python-1.3.0-py3-none-any.whl (5.6 kB)\n",
            "Installing collected packages: googlesearch-python\n",
            "Successfully installed googlesearch-python-1.3.0\n"
          ]
        }
      ],
      "source": [
        "!pip install googlesearch-python"
      ]
    },
    {
      "source": [
        "## Results\n",
        "\n",
        "The model achieves high accuracy in detecting phishing websites.\n",
        "\n",
        "## Dependencies\n",
        "\n",
        "The project requires the following libraries:\n",
        "\n",
        "- pandas\n",
        "- numpy\n",
        "- seaborn\n",
        "- matplotlib\n",
        "- re\n",
        "- urllib\n",
        "- tld\n",
        "- googlesearch\n",
        "- scikit-learn\n",
        "- imblearn\n",
        "- catboost\n",
        "- xgboost\n",
        "\n",
        "You can install them using pip:"
      ],
      "cell_type": "code",
      "metadata": {
        "id": "ztviSg_RmbZb"
      },
      "execution_count": null,
      "outputs": []
    },
    {
      "cell_type": "code",
      "execution_count": null,
      "metadata": {
        "id": "vGN326aZjKoF"
      },
      "outputs": [],
      "source": [
        "import pandas as pd\n",
        "import numpy as np\n",
        "import seaborn as sns\n",
        "import matplotlib.pyplot as plt\n",
        "import re\n",
        "from urllib.parse import urlparse\n",
        "from tld import get_tld\n",
        "from googlesearch import search\n",
        "from sklearn.model_selection import train_test_split\n",
        "from sklearn.metrics import classification_report, accuracy_score\n",
        "from sklearn.metrics import precision_recall_curve\n",
        "from sklearn.metrics import confusion_matrix\n",
        "from sklearn.model_selection import learning_curve"
      ]
    },
    {
      "cell_type": "code",
      "execution_count": null,
      "metadata": {
        "id": "Y1Ei7yhInI2p"
      },
      "outputs": [],
      "source": [
        "from imblearn.over_sampling import SMOTE\n",
        "from catboost import CatBoostClassifier\n",
        "from xgboost import XGBClassifier\n",
        "from sklearn.ensemble import RandomForestClassifier\n",
        "from sklearn.linear_model import LogisticRegression\n",
        "from sklearn.tree import DecisionTreeClassifier\n",
        "from sklearn.neighbors import KNeighborsClassifier"
      ]
    },
    {
      "cell_type": "code",
      "execution_count": null,
      "metadata": {
        "id": "6G0n2jvpnhoT"
      },
      "outputs": [],
      "source": [
        "df=pd.read_csv(\"/content/corrected_data_urls.csv\")"
      ]
    },
    {
      "cell_type": "code",
      "execution_count": null,
      "metadata": {
        "colab": {
          "base_uri": "https://localhost:8080/",
          "height": 206
        },
        "id": "xSjmQM2eniNn",
        "outputId": "da753989-106b-4427-91a0-0fd0c2705664"
      },
      "outputs": [
        {
          "data": {
            "application/vnd.google.colaboratory.intrinsic+json": {
              "type": "dataframe",
              "variable_name": "df"
            },
            "text/html": [
              "\n",
              "  <div id=\"df-d5cc8431-6968-4008-ad46-7f5d6cb779cd\" class=\"colab-df-container\">\n",
              "    <div>\n",
              "<style scoped>\n",
              "    .dataframe tbody tr th:only-of-type {\n",
              "        vertical-align: middle;\n",
              "    }\n",
              "\n",
              "    .dataframe tbody tr th {\n",
              "        vertical-align: top;\n",
              "    }\n",
              "\n",
              "    .dataframe thead th {\n",
              "        text-align: right;\n",
              "    }\n",
              "</style>\n",
              "<table border=\"1\" class=\"dataframe\">\n",
              "  <thead>\n",
              "    <tr style=\"text-align: right;\">\n",
              "      <th></th>\n",
              "      <th>url</th>\n",
              "      <th>status</th>\n",
              "    </tr>\n",
              "  </thead>\n",
              "  <tbody>\n",
              "    <tr>\n",
              "      <th>0</th>\n",
              "      <td>0000111servicehelpdesk.godaddysites.com</td>\n",
              "      <td>0</td>\n",
              "    </tr>\n",
              "    <tr>\n",
              "      <th>1</th>\n",
              "      <td>000011accesswebform.godaddysites.com</td>\n",
              "      <td>0</td>\n",
              "    </tr>\n",
              "    <tr>\n",
              "      <th>2</th>\n",
              "      <td>00003.online</td>\n",
              "      <td>1</td>\n",
              "    </tr>\n",
              "    <tr>\n",
              "      <th>3</th>\n",
              "      <td>0009servicedeskowa.godaddysites.com</td>\n",
              "      <td>0</td>\n",
              "    </tr>\n",
              "    <tr>\n",
              "      <th>4</th>\n",
              "      <td>000n38p.wcomhost.com</td>\n",
              "      <td>0</td>\n",
              "    </tr>\n",
              "  </tbody>\n",
              "</table>\n",
              "</div>\n",
              "    <div class=\"colab-df-buttons\">\n",
              "\n",
              "  <div class=\"colab-df-container\">\n",
              "    <button class=\"colab-df-convert\" onclick=\"convertToInteractive('df-d5cc8431-6968-4008-ad46-7f5d6cb779cd')\"\n",
              "            title=\"Convert this dataframe to an interactive table.\"\n",
              "            style=\"display:none;\">\n",
              "\n",
              "  <svg xmlns=\"http://www.w3.org/2000/svg\" height=\"24px\" viewBox=\"0 -960 960 960\">\n",
              "    <path d=\"M120-120v-720h720v720H120Zm60-500h600v-160H180v160Zm220 220h160v-160H400v160Zm0 220h160v-160H400v160ZM180-400h160v-160H180v160Zm440 0h160v-160H620v160ZM180-180h160v-160H180v160Zm440 0h160v-160H620v160Z\"/>\n",
              "  </svg>\n",
              "    </button>\n",
              "\n",
              "  <style>\n",
              "    .colab-df-container {\n",
              "      display:flex;\n",
              "      gap: 12px;\n",
              "    }\n",
              "\n",
              "    .colab-df-convert {\n",
              "      background-color: #E8F0FE;\n",
              "      border: none;\n",
              "      border-radius: 50%;\n",
              "      cursor: pointer;\n",
              "      display: none;\n",
              "      fill: #1967D2;\n",
              "      height: 32px;\n",
              "      padding: 0 0 0 0;\n",
              "      width: 32px;\n",
              "    }\n",
              "\n",
              "    .colab-df-convert:hover {\n",
              "      background-color: #E2EBFA;\n",
              "      box-shadow: 0px 1px 2px rgba(60, 64, 67, 0.3), 0px 1px 3px 1px rgba(60, 64, 67, 0.15);\n",
              "      fill: #174EA6;\n",
              "    }\n",
              "\n",
              "    .colab-df-buttons div {\n",
              "      margin-bottom: 4px;\n",
              "    }\n",
              "\n",
              "    [theme=dark] .colab-df-convert {\n",
              "      background-color: #3B4455;\n",
              "      fill: #D2E3FC;\n",
              "    }\n",
              "\n",
              "    [theme=dark] .colab-df-convert:hover {\n",
              "      background-color: #434B5C;\n",
              "      box-shadow: 0px 1px 3px 1px rgba(0, 0, 0, 0.15);\n",
              "      filter: drop-shadow(0px 1px 2px rgba(0, 0, 0, 0.3));\n",
              "      fill: #FFFFFF;\n",
              "    }\n",
              "  </style>\n",
              "\n",
              "    <script>\n",
              "      const buttonEl =\n",
              "        document.querySelector('#df-d5cc8431-6968-4008-ad46-7f5d6cb779cd button.colab-df-convert');\n",
              "      buttonEl.style.display =\n",
              "        google.colab.kernel.accessAllowed ? 'block' : 'none';\n",
              "\n",
              "      async function convertToInteractive(key) {\n",
              "        const element = document.querySelector('#df-d5cc8431-6968-4008-ad46-7f5d6cb779cd');\n",
              "        const dataTable =\n",
              "          await google.colab.kernel.invokeFunction('convertToInteractive',\n",
              "                                                    [key], {});\n",
              "        if (!dataTable) return;\n",
              "\n",
              "        const docLinkHtml = 'Like what you see? Visit the ' +\n",
              "          '<a target=\"_blank\" href=https://colab.research.google.com/notebooks/data_table.ipynb>data table notebook</a>'\n",
              "          + ' to learn more about interactive tables.';\n",
              "        element.innerHTML = '';\n",
              "        dataTable['output_type'] = 'display_data';\n",
              "        await google.colab.output.renderOutput(dataTable, element);\n",
              "        const docLink = document.createElement('div');\n",
              "        docLink.innerHTML = docLinkHtml;\n",
              "        element.appendChild(docLink);\n",
              "      }\n",
              "    </script>\n",
              "  </div>\n",
              "\n",
              "\n",
              "<div id=\"df-5e2aac9e-4db3-486d-8077-e433442ca616\">\n",
              "  <button class=\"colab-df-quickchart\" onclick=\"quickchart('df-5e2aac9e-4db3-486d-8077-e433442ca616')\"\n",
              "            title=\"Suggest charts\"\n",
              "            style=\"display:none;\">\n",
              "\n",
              "<svg xmlns=\"http://www.w3.org/2000/svg\" height=\"24px\"viewBox=\"0 0 24 24\"\n",
              "     width=\"24px\">\n",
              "    <g>\n",
              "        <path d=\"M19 3H5c-1.1 0-2 .9-2 2v14c0 1.1.9 2 2 2h14c1.1 0 2-.9 2-2V5c0-1.1-.9-2-2-2zM9 17H7v-7h2v7zm4 0h-2V7h2v10zm4 0h-2v-4h2v4z\"/>\n",
              "    </g>\n",
              "</svg>\n",
              "  </button>\n",
              "\n",
              "<style>\n",
              "  .colab-df-quickchart {\n",
              "      --bg-color: #E8F0FE;\n",
              "      --fill-color: #1967D2;\n",
              "      --hover-bg-color: #E2EBFA;\n",
              "      --hover-fill-color: #174EA6;\n",
              "      --disabled-fill-color: #AAA;\n",
              "      --disabled-bg-color: #DDD;\n",
              "  }\n",
              "\n",
              "  [theme=dark] .colab-df-quickchart {\n",
              "      --bg-color: #3B4455;\n",
              "      --fill-color: #D2E3FC;\n",
              "      --hover-bg-color: #434B5C;\n",
              "      --hover-fill-color: #FFFFFF;\n",
              "      --disabled-bg-color: #3B4455;\n",
              "      --disabled-fill-color: #666;\n",
              "  }\n",
              "\n",
              "  .colab-df-quickchart {\n",
              "    background-color: var(--bg-color);\n",
              "    border: none;\n",
              "    border-radius: 50%;\n",
              "    cursor: pointer;\n",
              "    display: none;\n",
              "    fill: var(--fill-color);\n",
              "    height: 32px;\n",
              "    padding: 0;\n",
              "    width: 32px;\n",
              "  }\n",
              "\n",
              "  .colab-df-quickchart:hover {\n",
              "    background-color: var(--hover-bg-color);\n",
              "    box-shadow: 0 1px 2px rgba(60, 64, 67, 0.3), 0 1px 3px 1px rgba(60, 64, 67, 0.15);\n",
              "    fill: var(--button-hover-fill-color);\n",
              "  }\n",
              "\n",
              "  .colab-df-quickchart-complete:disabled,\n",
              "  .colab-df-quickchart-complete:disabled:hover {\n",
              "    background-color: var(--disabled-bg-color);\n",
              "    fill: var(--disabled-fill-color);\n",
              "    box-shadow: none;\n",
              "  }\n",
              "\n",
              "  .colab-df-spinner {\n",
              "    border: 2px solid var(--fill-color);\n",
              "    border-color: transparent;\n",
              "    border-bottom-color: var(--fill-color);\n",
              "    animation:\n",
              "      spin 1s steps(1) infinite;\n",
              "  }\n",
              "\n",
              "  @keyframes spin {\n",
              "    0% {\n",
              "      border-color: transparent;\n",
              "      border-bottom-color: var(--fill-color);\n",
              "      border-left-color: var(--fill-color);\n",
              "    }\n",
              "    20% {\n",
              "      border-color: transparent;\n",
              "      border-left-color: var(--fill-color);\n",
              "      border-top-color: var(--fill-color);\n",
              "    }\n",
              "    30% {\n",
              "      border-color: transparent;\n",
              "      border-left-color: var(--fill-color);\n",
              "      border-top-color: var(--fill-color);\n",
              "      border-right-color: var(--fill-color);\n",
              "    }\n",
              "    40% {\n",
              "      border-color: transparent;\n",
              "      border-right-color: var(--fill-color);\n",
              "      border-top-color: var(--fill-color);\n",
              "    }\n",
              "    60% {\n",
              "      border-color: transparent;\n",
              "      border-right-color: var(--fill-color);\n",
              "    }\n",
              "    80% {\n",
              "      border-color: transparent;\n",
              "      border-right-color: var(--fill-color);\n",
              "      border-bottom-color: var(--fill-color);\n",
              "    }\n",
              "    90% {\n",
              "      border-color: transparent;\n",
              "      border-bottom-color: var(--fill-color);\n",
              "    }\n",
              "  }\n",
              "</style>\n",
              "\n",
              "  <script>\n",
              "    async function quickchart(key) {\n",
              "      const quickchartButtonEl =\n",
              "        document.querySelector('#' + key + ' button');\n",
              "      quickchartButtonEl.disabled = true;  // To prevent multiple clicks.\n",
              "      quickchartButtonEl.classList.add('colab-df-spinner');\n",
              "      try {\n",
              "        const charts = await google.colab.kernel.invokeFunction(\n",
              "            'suggestCharts', [key], {});\n",
              "      } catch (error) {\n",
              "        console.error('Error during call to suggestCharts:', error);\n",
              "      }\n",
              "      quickchartButtonEl.classList.remove('colab-df-spinner');\n",
              "      quickchartButtonEl.classList.add('colab-df-quickchart-complete');\n",
              "    }\n",
              "    (() => {\n",
              "      let quickchartButtonEl =\n",
              "        document.querySelector('#df-5e2aac9e-4db3-486d-8077-e433442ca616 button');\n",
              "      quickchartButtonEl.style.display =\n",
              "        google.colab.kernel.accessAllowed ? 'block' : 'none';\n",
              "    })();\n",
              "  </script>\n",
              "</div>\n",
              "\n",
              "    </div>\n",
              "  </div>\n"
            ],
            "text/plain": [
              "                                       url  status\n",
              "0  0000111servicehelpdesk.godaddysites.com       0\n",
              "1     000011accesswebform.godaddysites.com       0\n",
              "2                             00003.online       1\n",
              "3      0009servicedeskowa.godaddysites.com       0\n",
              "4                     000n38p.wcomhost.com       0"
            ]
          },
          "execution_count": 7,
          "metadata": {},
          "output_type": "execute_result"
        }
      ],
      "source": [
        "df.head()"
      ]
    },
    {
      "cell_type": "code",
      "execution_count": null,
      "metadata": {
        "colab": {
          "base_uri": "https://localhost:8080/"
        },
        "id": "agy9Qmf4niKI",
        "outputId": "6a2142c3-e2ae-475a-f11b-9f026f0ec417"
      },
      "outputs": [
        {
          "data": {
            "text/plain": [
              "(822010, 2)"
            ]
          },
          "execution_count": 8,
          "metadata": {},
          "output_type": "execute_result"
        }
      ],
      "source": [
        "df.shape"
      ]
    },
    {
      "cell_type": "code",
      "execution_count": null,
      "metadata": {
        "colab": {
          "base_uri": "https://localhost:8080/"
        },
        "id": "xBwJji2Snoee",
        "outputId": "5d39e248-3da4-45ea-ae87-1e4fb21f9369"
      },
      "outputs": [
        {
          "data": {
            "text/plain": [
              "Index(['url', 'status'], dtype='object')"
            ]
          },
          "execution_count": 9,
          "metadata": {},
          "output_type": "execute_result"
        }
      ],
      "source": [
        "df.columns"
      ]
    },
    {
      "cell_type": "code",
      "execution_count": null,
      "metadata": {
        "id": "tvsJi0RFjKrD"
      },
      "outputs": [],
      "source": [
        "# Define feature extraction functions\n",
        "def having_ip_address(url):\n",
        "    match = re.search(\n",
        "        '(([01]?\\\\d\\\\d?|2[0-4]\\\\d|25[0-5])\\\\.([01]?\\\\d\\\\d?|2[0-4]\\\\d|25[0-5])\\\\.([01]?\\\\d\\\\d?|2[0-4]\\\\d|25[0-5])\\\\.'  # IPv4\n",
        "        '([01]?\\\\d\\\\d?|2[0-4]\\\\d|25[0-5])\\\\/)|'  # IPv4 in hexadecimal\n",
        "        '(?:[a-fA-F0-9]{1,4}:){7}[a-fA-F0-9]{1,4}', url)  # IPv6\n",
        "    return 1 if match else 0\n",
        "\n",
        "def abnormal_url(url):\n",
        "    hostname = urlparse(url).hostname\n",
        "    hostname = str(hostname)\n",
        "    match = re.search(hostname, url)\n",
        "    return 1 if match else 0\n",
        "\n",
        "def google_index(url):\n",
        "    try:\n",
        "        site = search(url, num_results=1)\n",
        "        return 1 if site else 0\n",
        "    except:\n",
        "        return 0\n",
        "\n",
        "def count_dot(url):\n",
        "    return url.count('.')\n",
        "\n",
        "def count_www(url):\n",
        "    return url.count('www')\n",
        "\n",
        "def count_atrate(url):\n",
        "    return url.count('@')\n",
        "\n",
        "def no_of_dir(url):\n",
        "    return urlparse(url).path.count('/')\n",
        "\n",
        "def no_of_embed(url):\n",
        "    return urlparse(url).path.count('//')\n",
        "\n",
        "def shortening_service(url):\n",
        "    match = re.search(\n",
        "        'bit\\\\.ly|goo\\\\.gl|shorte\\\\.st|x\\\\.co|ow\\\\.ly|t\\\\.co|tinyurl|is\\\\.gd|tr\\\\.im|cli\\\\.gs|tweez\\\\.me',\n",
        "        url)\n",
        "    return 1 if match else 0\n",
        "\n",
        "def count_https(url):\n",
        "    return url.count('https')\n",
        "\n",
        "def count_http(url):\n",
        "    return url.count('http')\n",
        "\n",
        "def count_per(url):\n",
        "    return url.count('%')\n",
        "\n",
        "def count_ques(url):\n",
        "    return url.count('?')\n",
        "\n",
        "def count_hyphen(url):\n",
        "    return url.count('-')\n",
        "\n",
        "def count_equal(url):\n",
        "    return url.count('=')\n",
        "\n",
        "def url_length(url):\n",
        "    return len(url)\n",
        "\n",
        "def hostname_length(url):\n",
        "    return len(urlparse(url).netloc)\n",
        "\n",
        "def suspicious_words(url):\n",
        "    match = re.search(\n",
        "        'paypal|login|signin|bank|account|update|free|lucky|service|bonus|ebayisapi|webscr',\n",
        "        url)\n",
        "    return 1 if match else 0\n",
        "\n",
        "def digit_count(url):\n",
        "    return sum(c.isdigit() for c in url)\n",
        "\n",
        "def letter_count(url):\n",
        "    return sum(c.isalpha() for c in url)\n",
        "\n",
        "def fd_length(url):\n",
        "    url_path = urlparse(url).path\n",
        "    return len(url_path.split('/')[1]) if len(url_path.split('/')) > 1 else 0\n",
        "\n",
        "def tld_length(url):\n",
        "    try:\n",
        "        tld = get_tld(url, fail_silently=True)\n",
        "        return len(tld)\n",
        "    except:\n",
        "        return -1"
      ]
    },
    {
      "cell_type": "code",
      "execution_count": null,
      "metadata": {
        "id": "4-bSfxexjKuI"
      },
      "outputs": [],
      "source": [
        "# Feature extraction wrapper\n",
        "def process_dataframe(dataframe):\n",
        "    dataframe['use_of_ip'] = dataframe['url'].apply(having_ip_address)\n",
        "    dataframe['abnormal_url'] = dataframe['url'].apply(abnormal_url)\n",
        "    dataframe['google_index'] = dataframe['url'].apply(google_index)\n",
        "    dataframe['count.'] = dataframe['url'].apply(count_dot)\n",
        "    dataframe['count-www'] = dataframe['url'].apply(count_www)\n",
        "    dataframe['count@'] = dataframe['url'].apply(count_atrate)\n",
        "    dataframe['count_dir'] = dataframe['url'].apply(no_of_dir)\n",
        "    dataframe['count_embed_domian'] = dataframe['url'].apply(no_of_embed)\n",
        "    dataframe['short_url'] = dataframe['url'].apply(shortening_service)\n",
        "    dataframe['count-https'] = dataframe['url'].apply(count_https)\n",
        "    dataframe['count-http'] = dataframe['url'].apply(count_http)\n",
        "    dataframe['count%'] = dataframe['url'].apply(count_per)\n",
        "    dataframe['count?'] = dataframe['url'].apply(count_ques)\n",
        "    dataframe['count-'] = dataframe['url'].apply(count_hyphen)\n",
        "    dataframe['count='] = dataframe['url'].apply(count_equal)\n",
        "    dataframe['url_length'] = dataframe['url'].apply(url_length)\n",
        "    dataframe['hostname_length'] = dataframe['url'].apply(hostname_length)\n",
        "    dataframe['sus_url'] = dataframe['url'].apply(suspicious_words)\n",
        "    dataframe['count-digits'] = dataframe['url'].apply(digit_count)\n",
        "    dataframe['count-letters'] = dataframe['url'].apply(letter_count)\n",
        "    dataframe['fd_length'] = dataframe['url'].apply(fd_length)\n",
        "    dataframe['tld_length'] = dataframe['url'].apply(lambda x: tld_length(x))\n",
        "    return dataframe"
      ]
    },
    {
      "cell_type": "code",
      "execution_count": null,
      "metadata": {
        "id": "-8efWLxDitVH"
      },
      "outputs": [],
      "source": [
        "# Process the dataset\n",
        "df = process_dataframe(df)"
      ]
    },
    {
      "cell_type": "code",
      "execution_count": null,
      "metadata": {
        "colab": {
          "base_uri": "https://localhost:8080/"
        },
        "id": "g3Vo0YiE_mz1",
        "outputId": "a86bf8ec-a1dd-4fae-d8d9-cc5b39ba354c"
      },
      "outputs": [
        {
          "data": {
            "text/plain": [
              "Index(['url', 'status', 'use_of_ip', 'abnormal_url', 'google_index', 'count.',\n",
              "       'count-www', 'count@', 'count_dir', 'count_embed_domian', 'short_url',\n",
              "       'count-https', 'count-http', 'count%', 'count?', 'count-', 'count=',\n",
              "       'url_length', 'hostname_length', 'sus_url', 'count-digits',\n",
              "       'count-letters', 'fd_length', 'tld_length'],\n",
              "      dtype='object')"
            ]
          },
          "execution_count": 13,
          "metadata": {},
          "output_type": "execute_result"
        }
      ],
      "source": [
        "df.columns"
      ]
    },
    {
      "cell_type": "code",
      "execution_count": null,
      "metadata": {
        "id": "3_Z9HBCc-OPn"
      },
      "outputs": [],
      "source": [
        "X = df[['use_of_ip', 'abnormal_url', 'google_index', 'count.', 'count-www', 'count@',\n",
        "        'count_dir', 'count_embed_domian', 'short_url', 'count-https', 'count-http',\n",
        "        'count%', 'count?', 'count-', 'count=', 'url_length', 'hostname_length',\n",
        "        'sus_url', 'count-digits', 'count-letters', 'fd_length', 'tld_length']]\n",
        "\n",
        "y = df['status']"
      ]
    },
    {
      "cell_type": "code",
      "execution_count": null,
      "metadata": {
        "id": "AiXAWGwe-OSk"
      },
      "outputs": [],
      "source": [
        "X_train, X_test, y_train, y_test = train_test_split(X, y, test_size=0.2, random_state=42, stratify=y)"
      ]
    },
    {
      "cell_type": "code",
      "execution_count": null,
      "metadata": {
        "colab": {
          "base_uri": "https://localhost:8080/"
        },
        "id": "xgE4-NbG1Qyt",
        "outputId": "2e5a77f7-5d36-479d-ac1e-905ecb9ac524"
      },
      "outputs": [
        {
          "name": "stdout",
          "output_type": "stream",
          "text": [
            "\n",
            "y_test value counts:\n",
            "status\n",
            "1    97966\n",
            "0    66436\n",
            "Name: count, dtype: int64\n"
          ]
        }
      ],
      "source": [
        "print(\"\\ny_test value counts:\")\n",
        "print(y_test.value_counts())"
      ]
    },
    {
      "cell_type": "code",
      "execution_count": null,
      "metadata": {
        "colab": {
          "base_uri": "https://localhost:8080/"
        },
        "id": "jO3Wbdk_7yoq",
        "outputId": "179748cc-38a9-4f14-b7ee-2d6c1ff39470"
      },
      "outputs": [
        {
          "name": "stdout",
          "output_type": "stream",
          "text": [
            "Class distribution before SMOTE: status\n",
            "1    391865\n",
            "0    265743\n",
            "Name: count, dtype: int64\n"
          ]
        }
      ],
      "source": [
        "print(\"Class distribution before SMOTE:\", y_train.value_counts())"
      ]
    },
    {
      "cell_type": "code",
      "execution_count": null,
      "metadata": {
        "colab": {
          "base_uri": "https://localhost:8080/",
          "height": 487
        },
        "id": "AecOX_mTuyw7",
        "outputId": "5a0d0196-9ff2-4dad-d2e7-e8a7030b3e98"
      },
      "outputs": [
        {
          "data": {
            "image/png": "[encoded data removed]",
            "text/plain": [
              "<Figure size 1000x500 with 1 Axes>"
            ]
          },
          "metadata": {},
          "output_type": "display_data"
        }
      ],
      "source": [
        "y_counts_original = y_train.value_counts()\n",
        "plt.figure(figsize=(10, 5))\n",
        "plt.bar(y_counts_original.index, y_counts_original.values, color=['blue', 'red'])\n",
        "plt.title('Distribution of Target Variable')\n",
        "plt.xlabel('Label')\n",
        "plt.ylabel('Count')\n",
        "plt.xticks(y_counts_original.index, ['Phishing', 'Legitimate'])\n",
        "plt.show()"
      ]
    },
    {
      "cell_type": "code",
      "execution_count": null,
      "metadata": {
        "colab": {
          "base_uri": "https://localhost:8080/",
          "height": 598
        },
        "id": "9dopKYbAu15S",
        "outputId": "44f16958-dc20-4886-e723-86f9f062419e"
      },
      "outputs": [
        {
          "data": {
            "image/png": "[encoded data removed]",
            "text/plain": [
              "<Figure size 700x700 with 1 Axes>"
            ]
          },
          "metadata": {},
          "output_type": "display_data"
        }
      ],
      "source": [
        "plt.figure(figsize=(7, 7))\n",
        "plt.pie(y_counts_original, labels=['Phishing', 'Legitimate'], autopct='%1.1f%%', colors=['blue', 'red'])\n",
        "plt.title('Class Distribution Before Balancing')\n",
        "plt.show()"
      ]
    },
    {
      "cell_type": "code",
      "execution_count": null,
      "metadata": {
        "colab": {
          "background_save": true
        },
        "id": "3RNxHbBu04yQ"
      },
      "outputs": [],
      "source": [
        "# Data Balancing using SMOTE to the training set\n",
        "smote = SMOTE(random_state=42)\n",
        "X_train_smote, y_train_smote = smote.fit_resample(X_train, y_train)"
      ]
    },
    {
      "cell_type": "code",
      "execution_count": null,
      "metadata": {
        "colab": {
          "base_uri": "https://localhost:8080/"
        },
        "id": "yDgx3dlj07t_",
        "outputId": "d609b114-b7e3-476c-d002-d0a93143aaaf"
      },
      "outputs": [
        {
          "name": "stdout",
          "output_type": "stream",
          "text": [
            "Class distribution after SMOTE: status\n",
            "1    391865\n",
            "0    391865\n",
            "Name: count, dtype: int64\n"
          ]
        }
      ],
      "source": [
        "print(\"Class distribution after SMOTE:\", y_train_smote.value_counts())"
      ]
    },
    {
      "cell_type": "code",
      "execution_count": null,
      "metadata": {
        "colab": {
          "base_uri": "https://localhost:8080/",
          "height": 598
        },
        "id": "Dbtx_kXgvPZw",
        "outputId": "5d2d8bba-2529-4dc7-c45a-4e103dbee1bc"
      },
      "outputs": [
        {
          "data": {
            "image/png": "[encoded data removed]",
            "text/plain": [
              "<Figure size 700x700 with 1 Axes>"
            ]
          },
          "metadata": {},
          "output_type": "display_data"
        }
      ],
      "source": [
        "y_counts_resampled = y_train_smote.value_counts()\n",
        "plt.figure(figsize=(7, 7))\n",
        "plt.pie(y_counts_resampled, labels=['Phishing', 'Legitimate'], autopct='%1.1f%%', colors=['blue', 'red'])\n",
        "plt.title('Class Distribution After Balancing')\n",
        "plt.show()"
      ]
    },
    {
      "cell_type": "code",
      "execution_count": null,
      "metadata": {
        "colab": {
          "base_uri": "https://localhost:8080/"
        },
        "id": "819F17AC-OVi",
        "outputId": "6728ab56-98f3-4aa1-c681-2cba758cfa92"
      },
      "outputs": [
        {
          "name": "stdout",
          "output_type": "stream",
          "text": [
            "0:\tlearn: 0.6252020\ttotal: 295ms\tremaining: 2m 27s\n",
            "100:\tlearn: 0.3099697\ttotal: 21.7s\tremaining: 1m 25s\n",
            "200:\tlearn: 0.2886600\ttotal: 41.7s\tremaining: 1m 2s\n",
            "300:\tlearn: 0.2770701\ttotal: 1m 2s\tremaining: 41.6s\n",
            "400:\tlearn: 0.2699416\ttotal: 1m 22s\tremaining: 20.5s\n",
            "499:\tlearn: 0.2648277\ttotal: 1m 43s\tremaining: 0us\n"
          ]
        },
        {
          "data": {
            "text/plain": [
              "<catboost.core.CatBoostClassifier at 0x790e25a90510>"
            ]
          },
          "execution_count": 23,
          "metadata": {},
          "output_type": "execute_result"
        }
      ],
      "source": [
        "# CatBoost model\n",
        "model = CatBoostClassifier(\n",
        "    iterations=500,\n",
        "    learning_rate=0.1,\n",
        "    depth=6,\n",
        "    loss_function='Logloss',\n",
        "    verbose=100,\n",
        "    random_seed=42\n",
        ")\n",
        "model.fit(X_train_smote, y_train_smote)"
      ]
    },
    {
      "cell_type": "code",
      "execution_count": null,
      "metadata": {
        "colab": {
          "base_uri": "https://localhost:8080/"
        },
        "id": "sGX_8hBw-OYK",
        "outputId": "95242290-c241-4c26-aaf0-1671ef5f063a"
      },
      "outputs": [
        {
          "name": "stdout",
          "output_type": "stream",
          "text": [
            "Classification Report:\n",
            "              precision    recall  f1-score   support\n",
            "\n",
            "           0       0.89      0.86      0.87     66436\n",
            "           1       0.90      0.93      0.92     97966\n",
            "\n",
            "    accuracy                           0.90    164402\n",
            "   macro avg       0.90      0.89      0.89    164402\n",
            "weighted avg       0.90      0.90      0.90    164402\n",
            "\n",
            "Accuracy: 0.90\n"
          ]
        }
      ],
      "source": [
        "y_pred = model.predict(X_test)\n",
        "print(\"Classification Report:\")\n",
        "print(classification_report(y_test, y_pred))\n",
        "print(\"Accuracy: {:.2f}\".format(accuracy_score(y_test, y_pred)))"
      ]
    },
    {
      "cell_type": "code",
      "execution_count": null,
      "metadata": {
        "colab": {
          "base_uri": "https://localhost:8080/"
        },
        "id": "ipDA3Qmn_3jq",
        "outputId": "f97bcb2e-f7e1-4815-8ab7-5aa0041b97de"
      },
      "outputs": [
        {
          "name": "stderr",
          "output_type": "stream",
          "text": [
            "/usr/local/lib/python3.11/dist-packages/xgboost/core.py:158: UserWarning: [04:15:12] WARNING: /workspace/src/learner.cc:740: \n",
            "Parameters: { \"use_label_encoder\" } are not used.\n",
            "\n",
            "  warnings.warn(smsg, UserWarning)\n"
          ]
        },
        {
          "name": "stdout",
          "output_type": "stream",
          "text": [
            "Classification Report:\n",
            "              precision    recall  f1-score   support\n",
            "\n",
            "           0       0.89      0.87      0.88     66436\n",
            "           1       0.91      0.93      0.92     97966\n",
            "\n",
            "    accuracy                           0.90    164402\n",
            "   macro avg       0.90      0.90      0.90    164402\n",
            "weighted avg       0.90      0.90      0.90    164402\n",
            "\n",
            "Accuracy: 0.90\n"
          ]
        }
      ],
      "source": [
        "# XGBoost Classifier\n",
        "xgb_model = XGBClassifier(\n",
        "    n_estimators=500,\n",
        "    learning_rate=0.1,\n",
        "    max_depth=6,\n",
        "    random_state=42,\n",
        "    use_label_encoder=False,\n",
        "    eval_metric='logloss'\n",
        ")\n",
        "xgb_model.fit(X_train_smote, y_train_smote)\n",
        "y_pred = xgb_model.predict(X_test)\n",
        "print(\"Classification Report:\")\n",
        "print(classification_report(y_test, y_pred))\n",
        "print(\"Accuracy: {:.2f}\".format(accuracy_score(y_test, y_pred)))"
      ]
    },
    {
      "cell_type": "code",
      "execution_count": null,
      "metadata": {
        "colab": {
          "base_uri": "https://localhost:8080/"
        },
        "id": "inYRsp9Flq5P",
        "outputId": "a384e44f-f150-40c5-8cc3-7558005c90ce"
      },
      "outputs": [
        {
          "data": {
            "text/plain": [
              "['XGBoost_model.pkl']"
            ]
          },
          "execution_count": 26,
          "metadata": {},
          "output_type": "execute_result"
        }
      ],
      "source": [
        "import joblib\n",
        "joblib.dump(xgb_model, 'XGBoost_model.pkl')"
      ]
    },
    {
      "cell_type": "code",
      "execution_count": null,
      "metadata": {
        "colab": {
          "background_save": true
        },
        "id": "btKW1XeRnIwH",
        "outputId": "4e0dc694-d344-4bb7-ad0c-ed3756a21c7c"
      },
      "outputs": [
        {
          "name": "stdout",
          "output_type": "stream",
          "text": [
            "Classification Report:\n",
            "              precision    recall  f1-score   support\n",
            "\n",
            "           0       0.89      0.90      0.89     66436\n",
            "           1       0.93      0.93      0.93     97966\n",
            "\n",
            "    accuracy                           0.91    164402\n",
            "   macro avg       0.91      0.91      0.91    164402\n",
            "weighted avg       0.91      0.91      0.91    164402\n",
            "\n",
            "Accuracy: 0.91\n"
          ]
        }
      ],
      "source": [
        "# Random Forest Classifier\n",
        "rf_model = RandomForestClassifier(\n",
        "    n_estimators=100,\n",
        "    max_depth=None,\n",
        "    random_state=42\n",
        ")\n",
        "rf_model.fit(X_train_smote, y_train_smote)\n",
        "y_pred = rf_model.predict(X_test)\n",
        "print(\"Classification Report:\")\n",
        "print(classification_report(y_test, y_pred))\n",
        "print(\"Accuracy: {:.2f}\".format(accuracy_score(y_test, y_pred)))"
      ]
    },
    {
      "cell_type": "code",
      "execution_count": null,
      "metadata": {
        "colab": {
          "background_save": true
        },
        "id": "8cstN1r-nIze",
        "outputId": "d292581e-2117-43e5-9ecc-9cebab5353bd"
      },
      "outputs": [
        {
          "name": "stdout",
          "output_type": "stream",
          "text": [
            "Classification Report:\n",
            "              precision    recall  f1-score   support\n",
            "\n",
            "           0       0.74      0.77      0.75     66436\n",
            "           1       0.84      0.81      0.83     97966\n",
            "\n",
            "    accuracy                           0.80    164402\n",
            "   macro avg       0.79      0.79      0.79    164402\n",
            "weighted avg       0.80      0.80      0.80    164402\n",
            "\n",
            "Accuracy: 0.80\n"
          ]
        }
      ],
      "source": [
        "# Logistic Regression Classifier\n",
        "lr_model = LogisticRegression(\n",
        "    solver='liblinear',  # liblinear, saga\n",
        "    random_state=42\n",
        ")\n",
        "lr_model.fit(X_train_smote, y_train_smote)\n",
        "y_pred = lr_model.predict(X_test)\n",
        "print(\"Classification Report:\")\n",
        "print(classification_report(y_test, y_pred))\n",
        "print(\"Accuracy: {:.2f}\".format(accuracy_score(y_test, y_pred)))"
      ]
    },
    {
      "cell_type": "code",
      "execution_count": null,
      "metadata": {
        "colab": {
          "background_save": true
        },
        "id": "UBaqMd_BAKXV",
        "outputId": "bfbb413c-4487-43f7-d925-34f7118791b8"
      },
      "outputs": [
        {
          "name": "stdout",
          "output_type": "stream",
          "text": [
            "              precision    recall  f1-score   support\n",
            "\n",
            "           0       0.86      0.89      0.88     66436\n",
            "           1       0.93      0.90      0.91     97966\n",
            "\n",
            "    accuracy                           0.90    164402\n",
            "   macro avg       0.89      0.90      0.89    164402\n",
            "weighted avg       0.90      0.90      0.90    164402\n",
            "\n",
            "Accuracy: 0.90\n"
          ]
        }
      ],
      "source": [
        "# Decision Tree classifier\n",
        "dt_classifier = DecisionTreeClassifier(random_state=42)\n",
        "dt_classifier.fit(X_train_smote, y_train_smote)\n",
        "y_pred = dt_classifier.predict(X_test)\n",
        "print(classification_report(y_test, y_pred))\n",
        "print(\"Accuracy: {:.2f}\".format(accuracy_score(y_test, y_pred)))"
      ]
    },
    {
      "cell_type": "code",
      "execution_count": null,
      "metadata": {
        "colab": {
          "background_save": true
        },
        "id": "ODRy1ll7AYtE",
        "outputId": "5ad39f9c-b410-473c-c594-febdcc01ece1"
      },
      "outputs": [
        {
          "name": "stdout",
          "output_type": "stream",
          "text": [
            "              precision    recall  f1-score   support\n",
            "\n",
            "           0       0.85      0.88      0.86     66436\n",
            "           1       0.92      0.89      0.90     97966\n",
            "\n",
            "    accuracy                           0.89    164402\n",
            "   macro avg       0.88      0.88      0.88    164402\n",
            "weighted avg       0.89      0.89      0.89    164402\n",
            "\n",
            "Accuracy: 0.89\n"
          ]
        }
      ],
      "source": [
        "# KNN classifier\n",
        "knn_classifier = KNeighborsClassifier(n_neighbors=5)\n",
        "knn_classifier.fit(X_train_smote, y_train_smote)\n",
        "y_pred = knn_classifier.predict(X_test)\n",
        "print(classification_report(y_test, y_pred))\n",
        "print(\"Accuracy: {:.2f}\".format(accuracy_score(y_test, y_pred)))"
      ]
    },
    {
      "cell_type": "code",
      "execution_count": null,
      "metadata": {
        "colab": {
          "background_save": true
        },
        "id": "6uOXMwgA2MFp",
        "outputId": "327dc2d9-1878-494c-fbaf-92aa83c87f53"
      },
      "outputs": [
        {
          "name": "stdout",
          "output_type": "stream",
          "text": [
            "Training Accuracy: 0.8977719249157553\n",
            "Testing Accuracy: 0.8982372477220472\n"
          ]
        }
      ],
      "source": [
        "print(\"Training Accuracy:\", model.score(X_train, y_train))\n",
        "print(\"Testing Accuracy:\", model.score(X_test, y_test))"
      ]
    },
    {
      "cell_type": "code",
      "execution_count": null,
      "metadata": {
        "id": "l-5BRZ8LurRM"
      },
      "outputs": [],
      "source": [
        "# Comparing accuracy scores for each model\n",
        "accuracies = [\n",
        "    model.score(X_test, y_test),  # CatBoost\n",
        "    xgb_model.score(X_test, y_test),  # XGBoost\n",
        "    rf_model.score(X_test, y_test),  # Random Forest\n",
        "    lr_model.score(X_test, y_test),  # Logistic Regression\n",
        "    dt_classifier.score(X_test, y_test),  # Decision Tree\n",
        "    knn_classifier.score(X_test, y_test)  # K-Nearest Neighbors\n",
        "]\n",
        "\n",
        "# Create the bar chart\n",
        "plt.figure(figsize=(10, 6))\n",
        "plt.bar(model_accuracies.keys(), accuracies, color=['skyblue', 'salmon', 'lightgreen', 'gold', 'lightcoral', 'lightsteelblue'])\n",
        "plt.title('Model Accuracy Comparison')\n",
        "plt.xlabel('Models')\n",
        "plt.ylabel('Accuracy')\n",
        "plt.ylim(0, 1)  # Accuracy ranges from 0 to 1\n",
        "plt.xticks(rotation=45, ha='right')\n",
        "plt.tight_layout()\n",
        "plt.show()"
      ]
    },
    {
      "cell_type": "code",
      "execution_count": null,
      "metadata": {
        "id": "O-1NwDqouu3c"
      },
      "outputs": [],
      "source": [
        "# Camparing Classification Report for each model\n",
        "model_names = list(results.keys())\n",
        "\n",
        "# Extracting the metrics for each model\n",
        "precision_scores = [metrics['Precision'] for metrics in results.values()]\n",
        "recall_scores = [metrics['Recall'] for metrics in results.values()]\n",
        "f1_scores = [metrics['F1 Score'] for metrics in results.values()]\n",
        "\n",
        "# Plotting the bar chart for all three metrics\n",
        "fig, axes = plt.subplots(1, 3, figsize=(18, 6))\n",
        "\n",
        "# Precision\n",
        "axes[0].bar(model_names, precision_scores, color='skyblue')\n",
        "axes[0].set_title(\"Precision Comparison\")\n",
        "axes[0].set_xlabel(\"Models\")\n",
        "axes[0].set_ylabel(\"Precision\")\n",
        "axes[0].set_ylim(0, 1)\n",
        "\n",
        "# Recall\n",
        "axes[1].bar(model_names, recall_scores, color='lightgreen')\n",
        "axes[1].set_title(\"Recall Comparison\")\n",
        "axes[1].set_xlabel(\"Models\")\n",
        "axes[1].set_ylabel(\"Recall\")\n",
        "axes[1].set_ylim(0, 1)\n",
        "\n",
        "# F1 Score\n",
        "axes[2].bar(model_names, f1_scores, color='salmon')\n",
        "axes[2].set_title(\"F1 Score Comparison\")\n",
        "axes[2].set_xlabel(\"Models\")\n",
        "axes[2].set_ylabel(\"F1 Score\")\n",
        "axes[2].set_ylim(0, 1)\n",
        "\n",
        "# Rotate x-axis labels for better readability\n",
        "plt.xticks(rotation=45)\n",
        "plt.tight_layout()\n",
        "plt.show()"
      ]
    },
    {
      "cell_type": "code",
      "execution_count": null,
      "metadata": {
        "id": "UisB6g_M2Lxr"
      },
      "outputs": [],
      "source": [
        "cm = confusion_matrix(y_test, y_pred)\n",
        "sns.heatmap(cm, annot=True, fmt='d', cmap='Blues', xticklabels=['Legitimate', 'Phishing'], yticklabels=['Legitimate', 'Phishing'])\n",
        "plt.xlabel('Predicted')\n",
        "plt.ylabel('Actual')\n",
        "plt.title('Confusion Matrix')\n",
        "\n",
        "plt.show()"
      ]
    },
    {
      "cell_type": "code",
      "execution_count": null,
      "metadata": {
        "id": "qNnLE9mP3dux"
      },
      "outputs": [],
      "source": [
        "probs = model.predict_proba(X_test)[:, 1]\n",
        "precision, recall, thresholds = precision_recall_curve(y_test, probs)\n",
        "\n",
        "plt.plot(recall, precision, marker='.', label='CatBoost')\n",
        "plt.xlabel('Recall')\n",
        "plt.ylabel('Precision')\n",
        "plt.title('Precision-Recall Curve')\n",
        "plt.legend()\n",
        "plt.show()"
      ]
    },
    {
      "cell_type": "code",
      "execution_count": null,
      "metadata": {
        "id": "hGCsw-S-Ehz0"
      },
      "outputs": [],
      "source": [
        "train_sizes, train_scores, test_scores = learning_curve(\n",
        "    model, X_train, y_train, cv=5, scoring='accuracy'\n",
        ")\n",
        "\n",
        "train_scores_mean = np.mean(train_scores, axis=1)\n",
        "test_scores_mean = np.mean(test_scores, axis=1)\n",
        "\n",
        "plt.plot(train_sizes, train_scores_mean, label='Training Score')\n",
        "plt.plot(train_sizes, test_scores_mean, label='Validation Score')\n",
        "plt.xlabel('Training Samples')\n",
        "plt.ylabel('Accuracy')\n",
        "plt.title('Learning Curve')\n",
        "plt.legend()\n",
        "plt.show()"
      ]
    },
    {
      "cell_type": "code",
      "execution_count": null,
      "metadata": {
        "id": "2xffQyK_v-k-"
      },
      "outputs": [],
      "source": [
        "def main(url):\n",
        "    status = []\n",
        "    status.append(having_ip_address(url))\n",
        "    status.append(abnormal_url(url))\n",
        "    status.append(count_dot(url))\n",
        "    status.append(count_www(url))\n",
        "    status.append(count_atrate(url))\n",
        "    status.append(no_of_dir(url))\n",
        "    status.append(no_of_embed(url))\n",
        "    status.append(shortening_service(url))\n",
        "    status.append(count_https(url))\n",
        "    status.append(count_http(url))\n",
        "    status.append(count_per(url))\n",
        "    status.append(count_ques(url))\n",
        "    status.append(count_hyphen(url))\n",
        "    status.append(count_equal(url))\n",
        "    status.append(url_length(url))\n",
        "    status.append(hostname_length(url))\n",
        "    status.append(suspicious_words(url))\n",
        "    status.append(digit_count(url))\n",
        "    status.append(letter_count(url))\n",
        "    status.append(fd_length(url))\n",
        "    try:\n",
        "        tld = get_tld(url, fail_silently=True)\n",
        "        status.append(len(tld) if tld else -1)\n",
        "    except:\n",
        "        status.append(-1)\n",
        "    status.append(tld_length(tld))\n",
        "\n",
        "    return status"
      ]
    },
    {
      "cell_type": "code",
      "execution_count": null,
      "metadata": {
        "id": "tpI0D9vOwdt7"
      },
      "outputs": [],
      "source": [
        "def get_prediction_from_url(test_url):\n",
        "    features_test = main(test_url)\n",
        "    features_test = np.array(features_test).reshape((1, -1))\n",
        "    pred = model.predict(features_test)\n",
        "    if int(pred[0]) == 1:\n",
        "        res = \"Phishing\"\n",
        "    else:\n",
        "        res = \"Legitimate\"\n",
        "\n",
        "    return res"
      ]
    },
    {
      "cell_type": "code",
      "execution_count": null,
      "metadata": {
        "id": "S_cHjCGj9K9Q"
      },
      "outputs": [],
      "source": [
        "urls = ['titaniumcorporate.co.za','www.amazon.com']\n",
        "for url in urls:\n",
        "     print(get_prediction_from_url(url))"
      ]
    },
    {
      "cell_type": "code",
      "execution_count": null,
      "metadata": {
        "id": "yaL003dg-OEW"
      },
      "outputs": [],
      "source": []
    }
  ],
  "metadata": {
    "colab": {
      "provenance": [],
      "authorship_tag": "ABX9TyNEfn5l7cr4Ej7SWeXORix/",
      "include_colab_link": true
    },
    "kernelspec": {
      "display_name": "Python 3",
      "name": "python3"
    },
    "language_info": {
      "name": "python"
    }
  },
  "nbformat": 4,
  "nbformat_minor": 0
}